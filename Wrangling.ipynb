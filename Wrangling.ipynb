{
  "nbformat": 4,
  "nbformat_minor": 0,
  "metadata": {
    "colab": {
      "provenance": []
    },
    "kernelspec": {
      "name": "python3",
      "display_name": "Python 3"
    },
    "language_info": {
      "name": "python"
    }
  },
  "cells": [
    {
      "cell_type": "markdown",
      "source": [
        "**Assignment: Data Wrangling** **Q1 Q2 & Q3**\n",
        "! git clone https://github.com/ds4e/wrangling\n",
        "Do Q1 and Q2, and either Q3 or Q4, for a total of 3 questions.\n",
        "Q1. This question provides some practice cleaning variables which have common problems.\n",
        "\n",
        "1. Numeric variable: For ./data/airbnb_hw.csv, clean the Price variable as well as you can, and explain the choices you make. How many missing values do you end up with? (Hint: What happens to the formatting when a price goes over 999 dollars, say from 675 to 1,112?)\n",
        "\n",
        "\n"
      ],
      "metadata": {
        "id": "DPXh3Qd_ljnA"
      }
    },
    {
      "cell_type": "code",
      "source": [
        "import pandas as pd\n",
        "url1 = 'https://raw.githubusercontent.com/ds4e/wrangling/main/assignment/data/airbnb_hw.csv'\n",
        "airbnb = pd.read_csv(url1)\n",
        "price = airbnb['Price']\n",
        "price = price.str.replace(',','')\n",
        "print( price.unique() , '\\n')\n",
        "price = pd.to_numeric(price,errors='coerce')\n",
        "print( price.unique() , '\\n')\n",
        "print( 'Total missing: ', sum( price.isnull() ) )\n"
      ],
      "metadata": {
        "colab": {
          "base_uri": "https://localhost:8080/"
        },
        "id": "_3yopKeD0KjA",
        "outputId": "49cdaec4-f0fc-457c-e33d-586917b4743c"
      },
      "execution_count": 72,
      "outputs": [
        {
          "output_type": "stream",
          "name": "stdout",
          "text": [
            "['145' '37' '28' '199' '549' '149' '250' '90' '270' '290' '170' '59' '49'\n",
            " '68' '285' '75' '100' '150' '700' '125' '175' '40' '89' '95' '99' '499'\n",
            " '120' '79' '110' '180' '143' '230' '350' '135' '85' '60' '70' '55' '44'\n",
            " '200' '165' '115' '74' '84' '129' '50' '185' '80' '190' '140' '45' '65'\n",
            " '225' '600' '109' '1990' '73' '240' '72' '105' '155' '160' '42' '132'\n",
            " '117' '295' '280' '159' '107' '69' '239' '220' '399' '130' '375' '585'\n",
            " '275' '139' '260' '35' '133' '300' '289' '179' '98' '195' '29' '27' '39'\n",
            " '249' '192' '142' '169' '1000' '131' '138' '113' '122' '329' '101' '475'\n",
            " '238' '272' '308' '126' '235' '315' '248' '128' '56' '207' '450' '215'\n",
            " '210' '385' '445' '136' '247' '118' '77' '76' '92' '198' '205' '299'\n",
            " '222' '245' '104' '153' '349' '114' '320' '292' '226' '420' '500' '325'\n",
            " '307' '78' '265' '108' '123' '189' '32' '58' '86' '219' '800' '335' '63'\n",
            " '229' '425' '67' '87' '1200' '158' '650' '234' '310' '695' '400' '166'\n",
            " '119' '62' '168' '340' '479' '43' '395' '144' '52' '47' '529' '187' '209'\n",
            " '233' '82' '269' '163' '172' '305' '156' '550' '435' '137' '124' '48'\n",
            " '279' '330' '5000' '134' '378' '97' '277' '64' '193' '147' '186' '264'\n",
            " '30' '3000' '112' '94' '379' '57' '415' '236' '410' '214' '88' '66' '71'\n",
            " '171' '157' '545' '1500' '83' '96' '1800' '81' '188' '380' '255' '505'\n",
            " '54' '33' '174' '93' '740' '640' '1300' '440' '599' '357' '1239' '495'\n",
            " '127' '5999' '178' '348' '152' '242' '183' '253' '750' '259' '365' '273'\n",
            " '197' '397' '103' '389' '355' '559' '38' '203' '999' '141' '162' '333'\n",
            " '698' '46' '360' '895' '10' '41' '206' '281' '449' '388' '212' '102'\n",
            " '201' '2750' '4750' '432' '675' '167' '390' '298' '339' '194' '302' '211'\n",
            " '595' '191' '53' '361' '480' '8000' '4500' '459' '997' '345' '216' '218'\n",
            " '111' '735' '276' '91' '490' '850' '398' '36' '775' '267' '625' '336'\n",
            " '2500' '176' '725' '3750' '469' '106' '460' '287' '575' '227' '263' '25'\n",
            " '228' '208' '177' '880' '148' '116' '685' '470' '217' '164' '61' '645'\n",
            " '699' '405' '252' '319' '268' '419' '343' '525' '311' '840' '154' '294'\n",
            " '950' '409' '184' '257' '204' '241' '2000' '412' '121' '288' '196' '900'\n",
            " '647' '524' '1750' '309' '510' '1495' '1700' '799' '383' '372' '492'\n",
            " '327' '1999' '656' '224' '173' '875' '1170' '795' '690' '146' '465'\n",
            " '1100' '151' '274' '429' '825' '282' '256' '1111' '620' '271' '161' '51'\n",
            " '855' '579' '1174' '430' '20' '899' '649' '485' '181' '455' '4000' '243'\n",
            " '342' '590' '560' '374' '437' '232' '359' '985' '31' '244' '254' '723'\n",
            " '237' '428' '370' '34' '1400' '580' '2520' '221' '749' '1600' '2695'\n",
            " '306' '202' '680' '570' '520' '223' '2295' '213' '1065' '346' '24' '286'\n",
            " '296' '266' '26' '995' '1368' '393' '182' '635' '258' '780' '589' '347'\n",
            " '1250' '1350' '446' '3200' '1050' '1650' '1550' '975' '323' '6500' '2499'\n",
            " '1850' '2250' '715' '461' '540' '356' '439' '384' '569' '1900' '22' '785'\n",
            " '626' '830' '318' '444' '321' '401' '1499' '888' '369' '770' '386' '366'\n",
            " '344' '630' '313' '597' '262' '509' '10000' '278' '312' '789' '1195'\n",
            " '422' '21' '765' '3500' '945' '326' '3100' '2486' '3390' '1356' '2599'\n",
            " '472' '454' '328' '396' '291'] \n",
            "\n",
            "[  145    37    28   199   549   149   250    90   270   290   170    59\n",
            "    49    68   285    75   100   150   700   125   175    40    89    95\n",
            "    99   499   120    79   110   180   143   230   350   135    85    60\n",
            "    70    55    44   200   165   115    74    84   129    50   185    80\n",
            "   190   140    45    65   225   600   109  1990    73   240    72   105\n",
            "   155   160    42   132   117   295   280   159   107    69   239   220\n",
            "   399   130   375   585   275   139   260    35   133   300   289   179\n",
            "    98   195    29    27    39   249   192   142   169  1000   131   138\n",
            "   113   122   329   101   475   238   272   308   126   235   315   248\n",
            "   128    56   207   450   215   210   385   445   136   247   118    77\n",
            "    76    92   198   205   299   222   245   104   153   349   114   320\n",
            "   292   226   420   500   325   307    78   265   108   123   189    32\n",
            "    58    86   219   800   335    63   229   425    67    87  1200   158\n",
            "   650   234   310   695   400   166   119    62   168   340   479    43\n",
            "   395   144    52    47   529   187   209   233    82   269   163   172\n",
            "   305   156   550   435   137   124    48   279   330  5000   134   378\n",
            "    97   277    64   193   147   186   264    30  3000   112    94   379\n",
            "    57   415   236   410   214    88    66    71   171   157   545  1500\n",
            "    83    96  1800    81   188   380   255   505    54    33   174    93\n",
            "   740   640  1300   440   599   357  1239   495   127  5999   178   348\n",
            "   152   242   183   253   750   259   365   273   197   397   103   389\n",
            "   355   559    38   203   999   141   162   333   698    46   360   895\n",
            "    10    41   206   281   449   388   212   102   201  2750  4750   432\n",
            "   675   167   390   298   339   194   302   211   595   191    53   361\n",
            "   480  8000  4500   459   997   345   216   218   111   735   276    91\n",
            "   490   850   398    36   775   267   625   336  2500   176   725  3750\n",
            "   469   106   460   287   575   227   263    25   228   208   177   880\n",
            "   148   116   685   470   217   164    61   645   699   405   252   319\n",
            "   268   419   343   525   311   840   154   294   950   409   184   257\n",
            "   204   241  2000   412   121   288   196   900   647   524  1750   309\n",
            "   510  1495  1700   799   383   372   492   327  1999   656   224   173\n",
            "   875  1170   795   690   146   465  1100   151   274   429   825   282\n",
            "   256  1111   620   271   161    51   855   579  1174   430    20   899\n",
            "   649   485   181   455  4000   243   342   590   560   374   437   232\n",
            "   359   985    31   244   254   723   237   428   370    34  1400   580\n",
            "  2520   221   749  1600  2695   306   202   680   570   520   223  2295\n",
            "   213  1065   346    24   286   296   266    26   995  1368   393   182\n",
            "   635   258   780   589   347  1250  1350   446  3200  1050  1650  1550\n",
            "   975   323  6500  2499  1850  2250   715   461   540   356   439   384\n",
            "   569  1900    22   785   626   830   318   444   321   401  1499   888\n",
            "   369   770   386   366   344   630   313   597   262   509 10000   278\n",
            "   312   789  1195   422    21   765  3500   945   326  3100  2486  3390\n",
            "  1356  2599   472   454   328   396   291] \n",
            "\n",
            "Total missing:  0\n"
          ]
        }
      ]
    },
    {
      "cell_type": "markdown",
      "source": [
        "I was able to clean the price variable by removing commas (resolving the issue with prices going from 999-1000), and I made sure all the values were numerical, using NaN if there were any invalid vlaues. There were no missing values after cleaning the data set.\n",
        "\n"
      ],
      "metadata": {
        "id": "BUTKgK4WSUrm"
      }
    },
    {
      "cell_type": "markdown",
      "source": [
        "Categorical variable: For the Minnesota police use of for data, ./data/mn_police_use_of_force.csv, clean the subject_injury variable, handling the NA's; this gives a value Yes when a person was injured by police, and No when no injury occurred. What proportion of the values are missing? Is this a concern? Cross-tabulate your cleaned subject_injury variable with the force_type variable. Are there any patterns regarding when the data are missing?"
      ],
      "metadata": {
        "id": "kcWVRrg-4FRe"
      }
    },
    {
      "cell_type": "code",
      "source": [
        "import pandas as pd\n",
        "\n",
        "# Load data\n",
        "url2 = 'https://raw.githubusercontent.com/ds4e/wrangling/main/assignment/data/mn_police_use_of_force.csv'\n",
        "policedata = pd.read_csv(url2)\n",
        "\n",
        "# Extract 'subject_injury' and 'force_type' columns\n",
        "subject_injury = policedata['subject_injury']\n",
        "force_type = policedata['force_type']\n",
        "\n",
        "# Calculate total missing values for subject_injury and force_type\n",
        "total_missing_subject = subject_injury.isnull().sum()\n",
        "total_missing_force = force_type.isnull().sum()\n",
        "\n",
        "# Calculate proportion of missing data for subject_injury\n",
        "proportion_missing_subject = total_missing_subject / len(subject_injury)\n",
        "\n",
        "# Print total and proportion of missing data for subject_injury\n",
        "print('Total missing in subject_injury:', total_missing_subject)\n",
        "print('Proportion missing in subject_injury:', proportion_missing_subject)\n",
        "\n",
        "# Clean the 'subject_injury' column\n",
        "subject_injury_cleaned = subject_injury.apply(lambda x: 'Yes' if pd.notnull(x) and str(x).lower() != 'no injury' else 'No')\n",
        "\n",
        "# Assign cleaned column back to the dataframe\n",
        "policedata['subject_injury_cleaned'] = subject_injury_cleaned\n",
        "\n",
        "# Print the first few rows of cleaned data\n",
        "print(\"\\nCleaned subject_injury data (first few rows):\")\n",
        "print(policedata[['subject_injury_cleaned']].head(20))\n",
        "\n",
        "#Cross Tabulate\n",
        "crosstabulate = pd.crosstab(policedata['subject_injury'], policedata['force_type'], dropna=False)\n",
        "print(\"\\nCross-tabulation of 'subject_injury' with 'force_type':\")\n",
        "print(crosstabulate)"
      ],
      "metadata": {
        "colab": {
          "base_uri": "https://localhost:8080/"
        },
        "id": "emALqXUvWxMD",
        "outputId": "28f8759b-0375-41ce-c8a4-f7f333beed63"
      },
      "execution_count": 73,
      "outputs": [
        {
          "output_type": "stream",
          "name": "stdout",
          "text": [
            "Total missing in subject_injury: 9848\n",
            "Proportion missing in subject_injury: 0.7619342359767892\n",
            "\n",
            "Cleaned subject_injury data (first few rows):\n",
            "   subject_injury_cleaned\n",
            "0                      No\n",
            "1                      No\n",
            "2                      No\n",
            "3                      No\n",
            "4                      No\n",
            "5                      No\n",
            "6                      No\n",
            "7                      No\n",
            "8                      No\n",
            "9                     Yes\n",
            "10                    Yes\n",
            "11                    Yes\n",
            "12                    Yes\n",
            "13                    Yes\n",
            "14                    Yes\n",
            "15                    Yes\n",
            "16                     No\n",
            "17                     No\n",
            "18                     No\n",
            "19                    Yes\n",
            "\n",
            "Cross-tabulation of 'subject_injury' with 'force_type':\n",
            "force_type      Baton  Bodily Force  Chemical Irritant  Firearm  \\\n",
            "subject_injury                                                    \n",
            "No                  0          1093                131        2   \n",
            "Yes                 2          1286                 41        0   \n",
            "NaN                 2          7051               1421        0   \n",
            "\n",
            "force_type      Gun Point Display  Improvised Weapon  Less Lethal  \\\n",
            "subject_injury                                                      \n",
            "No                             33                 34            0   \n",
            "Yes                            44                 40            0   \n",
            "NaN                            27                 74           87   \n",
            "\n",
            "force_type      Less Lethal Projectile  Maximal Restraint Technique  \\\n",
            "subject_injury                                                        \n",
            "No                                   1                            0   \n",
            "Yes                                  2                            0   \n",
            "NaN                                  0                          170   \n",
            "\n",
            "force_type      Police K9 Bite  Taser  \n",
            "subject_injury                         \n",
            "No                           2    150  \n",
            "Yes                         44    172  \n",
            "NaN                         31    985  \n"
          ]
        }
      ]
    },
    {
      "cell_type": "markdown",
      "source": [
        "According to my analysis, 76.5% of the data for the subject injury variable is missing. This is highly concerning because it suggests that the majority of injuries related to police brutality are not being recorded. As a result, the overall quality of our data is significantly impacted. This missing data could introduce biases, potentially skewing the findings in either direction due to human influence on which data is reported or omitted.\n",
        "\n",
        "When cross-tabulating this with the force type data, it appears that a higher proportion of data is missing for fields such as \"bodily force\" and \"taser.\" This could be because these force types are associated with more severe actions and greater liability for police officers, which might explain why the data is less likely to be reported. This lack of data raises serious concerns and could undermine the integrity of any conclusions drawn from this dataset."
      ],
      "metadata": {
        "id": "obASTWqdYJrN"
      }
    },
    {
      "cell_type": "markdown",
      "source": [
        "3. Dummy variable: For the pretrial data covered in the lecture, clean the WhetherDefendantWasReleasedPretrial variable as well as you can, and, in particular, replace missing values with np.nan."
      ],
      "metadata": {
        "id": "idyc2hZx5NYi"
      }
    },
    {
      "cell_type": "code",
      "source": [
        "import pandas as pd\n",
        "import numpy as np\n",
        "\n",
        "# Load data\n",
        "pretrialurl = 'https://github.com/DS3001/wrangling/raw/refs/heads/main/data/justice_data.parquet'\n",
        "pretrial = pd.read_parquet(pretrialurl, engine='pyarrow')\n",
        "pretrial.head()\n",
        "defendentreleased = pretrial['WhetherDefendantWasReleasedPretrial']\n",
        "print(defendentreleased.value_counts())\n",
        "#It appears that the \"9\" value is unclear. Let's repace this with \"missing value\"\n",
        "defendentreleased = defendentreleased.replace(9, np.nan)\n",
        "print(defendentreleased.value_counts(), '\\n')\n",
        "missing = sum(defendentreleased.isnull())\n",
        "print(f\"Total missing values: {missing}\")\n"
      ],
      "metadata": {
        "colab": {
          "base_uri": "https://localhost:8080/"
        },
        "id": "wOARlCkMZbTX",
        "outputId": "1e1ee8bf-694c-4e02-f28b-499dac4b4aa6"
      },
      "execution_count": 74,
      "outputs": [
        {
          "output_type": "stream",
          "name": "stdout",
          "text": [
            "WhetherDefendantWasReleasedPretrial\n",
            "1    19154\n",
            "0     3801\n",
            "9       31\n",
            "Name: count, dtype: int64\n",
            "WhetherDefendantWasReleasedPretrial\n",
            "1.0    19154\n",
            "0.0     3801\n",
            "Name: count, dtype: int64 \n",
            "\n",
            "Total missing values: 31\n"
          ]
        }
      ]
    },
    {
      "cell_type": "markdown",
      "source": [
        "4. Missing values, not at random: For the pretrial data covered in the lecture, clean the ImposedSentenceAllChargeInContactEvent variable as well as you can, and explain the choices you make. (Hint: Look at the SentenceTypeAllChargesAtConvictionInContactEvent variable.)"
      ],
      "metadata": {
        "id": "le9M3ffF6cCt"
      }
    },
    {
      "cell_type": "code",
      "source": [
        "import pandas as pd\n",
        "import numpy as np\n",
        "\n",
        "sentence_col = pretrial['ImposedSentenceAllChargeInContactEvent']  # sentence length\n",
        "sentence_type_col = pretrial['SentenceTypeAllChargesAtConvictionInContactEvent']  # sentence type\n",
        "\n",
        "# Convert the 'sentence_col' to numeric and coerce invalid entries to NaN\n",
        "sentence_col = pd.to_numeric(sentence_col, errors='coerce')\n",
        "\n",
        "# Count missing values in 'sentence_col'\n",
        "missing_length = sum(sentence_col.isnull())\n",
        "print(f\"Total missing values in 'ImposedSentenceAllChargeInContactEvent': {missing_length}\\n\")\n",
        "\n",
        "# Cross-tabulate missing values in 'sentence_col' with 'sentence_type_col'\n",
        "sentence_na = sentence_col.isnull()\n",
        "print(\"Cross-tabulation of missing sentence data by sentence type:\")\n",
        "print(pd.crosstab(sentence_na, sentence_type_col), '\\n')\n",
        "\n",
        "# Handle specific cases where the sentence type is 4 (dismissed) or 9\n",
        "sentence_col = sentence_col.mask(sentence_type_col == 4, 0)  # Assign 0 where sentence type is 4 (dismissed charges)\n",
        "sentence_col = sentence_col.mask(sentence_type_col == 9, np.nan)  # Replace with NaN where sentence type is 9 (unclear)\n",
        "\n",
        "# Recalculate missing values after masking\n",
        "sentence_na_after = sentence_col.isnull()\n",
        "print(\"Cross-tabulation after replacing specific values (type 4 = 0, type 9 = NaN):\")\n",
        "print(pd.crosstab(sentence_na_after, sentence_type_col), '\\n')\n",
        "\n",
        "# Final check on missing values after cleaning\n",
        "missing_after_cleaning = sum(sentence_col.isnull())\n",
        "print(f\"Total missing values after cleaning: {missing_after_cleaning}\\n\")\n"
      ],
      "metadata": {
        "colab": {
          "base_uri": "https://localhost:8080/"
        },
        "id": "rG79CZMqeTxk",
        "outputId": "3c11c005-3584-4cdc-dc4c-bedcbe423d00"
      },
      "execution_count": 75,
      "outputs": [
        {
          "output_type": "stream",
          "name": "stdout",
          "text": [
            "Total missing values in 'ImposedSentenceAllChargeInContactEvent': 9053\n",
            "\n",
            "Cross-tabulation of missing sentence data by sentence type:\n",
            "SentenceTypeAllChargesAtConvictionInContactEvent     0     1    2     4    9\n",
            "ImposedSentenceAllChargeInContactEvent                                      \n",
            "False                                             8720  4299  914     0    0\n",
            "True                                                 0     0    0  8779  274 \n",
            "\n",
            "Cross-tabulation after replacing specific values (type 4 = 0, type 9 = NaN):\n",
            "SentenceTypeAllChargesAtConvictionInContactEvent     0     1    2     4    9\n",
            "ImposedSentenceAllChargeInContactEvent                                      \n",
            "False                                             8720  4299  914  8779    0\n",
            "True                                                 0     0    0     0  274 \n",
            "\n",
            "Total missing values after cleaning: 274\n",
            "\n"
          ]
        }
      ]
    },
    {
      "cell_type": "markdown",
      "source": [
        "\n",
        "To clean the ImposedSentenceAllChargeInContactEvent variable, I first converted it to numeric values, coercing any non-numeric values to NaN for consistency. Then I identified and counted missing values. For special cases, I handled rows where the SentenceTypeAllChargesAtConvictionInContactEvent column was 4 (dismissed charges), setting the sentence value to 0, as no sentence was imposed in those cases. For rows where the type was 9 (unclear), I replaced the value with NaN, as these entries lacked sufficient information. I ended up with 274 missing values after cleaning this data set."
      ],
      "metadata": {
        "id": "qnQ2oi-OgZB0"
      }
    },
    {
      "cell_type": "markdown",
      "source": [
        "Q2. Go to https://sharkattackfile.net/ and download their dataset on shark attacks.\n",
        "\n",
        "Open the shark attack file using Pandas. It is probably not a csv file, so read_csv won't work."
      ],
      "metadata": {
        "id": "R6IssBTd6sMN"
      }
    },
    {
      "cell_type": "code",
      "source": [
        "import pandas as pd\n",
        "\n",
        "\n",
        "url = \"https://github.com/ds4e/wrangling/raw/main/data/GSAF5.xls\"\n",
        "sharkdata = pd.read_excel(url)"
      ],
      "metadata": {
        "id": "F37B0Ebd61zt"
      },
      "execution_count": 2,
      "outputs": []
    },
    {
      "cell_type": "markdown",
      "source": [
        "Drop any columns that do not contain data."
      ],
      "metadata": {
        "id": "HYC4R_Ne7vdh"
      }
    },
    {
      "cell_type": "code",
      "source": [
        "import pandas as pd\n",
        "\n",
        "# GitHub raw file link\n",
        "url3 = \"https://github.com/ds4e/wrangling/raw/main/data/GSAF5.xls\"\n",
        "\n",
        "# Read the Excel file into a pandas DataFrame\n",
        "sharkdataraw = pd.read_excel(url)\n",
        "\n",
        "index_to_drop_after = 15\n",
        "\n",
        "sharkdata = sharkdata.iloc[:, :index_to_drop_after]\n",
        "\n",
        "sharkdata.head()\n"
      ],
      "metadata": {
        "colab": {
          "base_uri": "https://localhost:8080/",
          "height": 397
        },
        "id": "VQ042S0g7z7B",
        "outputId": "16616641-da7f-405e-b197-ac26647a0011"
      },
      "execution_count": 3,
      "outputs": [
        {
          "output_type": "execute_result",
          "data": {
            "text/plain": [
              "                  Date    Year        Type        Country  \\\n",
              "0  2025-01-11 00:00:00  2025.0    Provoked            USA   \n",
              "1  2025-01-02 00:00:00  2025.0  Unprovoked  New Caledonia   \n",
              "2  2025-01-02 00:00:00  2025.0  Unprovoked      Australia   \n",
              "3  2024-12-29 00:00:00  2024.0  Unprovoked          Egypt   \n",
              "4  2024-12-29 00:00:00  2024.0  Unprovoked          Egypt   \n",
              "\n",
              "                 State                                 Location      Activity  \\\n",
              "0               Hawaii            Off Haleiwa Boat Harbour Oahu        Diving   \n",
              "1         Grande Terre              Islet of Kendek near Koumac  Spearfishing   \n",
              "2      South Australia  Granites Beach near Westall Streaky Bay       Surfing   \n",
              "3  North of Marsa Alam                                  Red Sea  SCUBA Diving   \n",
              "4  North of Marsa Alam                                  Red Sea  SCUBA Diving   \n",
              "\n",
              "                                     Name Sex Age  \\\n",
              "0  Male not stated was a dive tour worker   M  23   \n",
              "1                        Robert Cuewapuru   M  40   \n",
              "2                           Lance Appleby   M  28   \n",
              "3                         Peppino Fappani   M  69   \n",
              "4                       Gianluca Di Gioia   M  48   \n",
              "\n",
              "                                              Injury Fatal Y/N     Time  \\\n",
              "0                                  Bitten on the arm         N  1340hrs   \n",
              "1  Severe arm injury and delay in medical treatme...         Y   1615hr   \n",
              "2                                 Body not recovered         Y   1710hr   \n",
              "3    Injuries to stomach preventing attack on friend         N        ?   \n",
              "4  Entire calf muscle removed and bitten both arm...         Y        ?   \n",
              "\n",
              "                                 Species   \\\n",
              "0                              Not stated   \n",
              "1          Reportedly Tiger or Bull shark   \n",
              "2  Great White Shart estimated 4.8m 16 ft   \n",
              "3                Reportedly a Tiger Shark   \n",
              "4                Reportedly a Tiger Shark   \n",
              "\n",
              "                                              Source  \n",
              "0                  Kevin McMurray Trackingsharks.com  \n",
              "1                      Johannes Marchand Todd Smith   \n",
              "2  Glen Folkard: Simon De Marchi News.com.au: The...  \n",
              "3  Todd Smith : Kevin McMurray Trackingsharks .co...  \n",
              "4  Todd Smith : Kevin McMurray Trackingsharks .co...  "
            ],
            "text/html": [
              "\n",
              "  <div id=\"df-52c53893-7ce4-488e-85be-e42487a71fbd\" class=\"colab-df-container\">\n",
              "    <div>\n",
              "<style scoped>\n",
              "    .dataframe tbody tr th:only-of-type {\n",
              "        vertical-align: middle;\n",
              "    }\n",
              "\n",
              "    .dataframe tbody tr th {\n",
              "        vertical-align: top;\n",
              "    }\n",
              "\n",
              "    .dataframe thead th {\n",
              "        text-align: right;\n",
              "    }\n",
              "</style>\n",
              "<table border=\"1\" class=\"dataframe\">\n",
              "  <thead>\n",
              "    <tr style=\"text-align: right;\">\n",
              "      <th></th>\n",
              "      <th>Date</th>\n",
              "      <th>Year</th>\n",
              "      <th>Type</th>\n",
              "      <th>Country</th>\n",
              "      <th>State</th>\n",
              "      <th>Location</th>\n",
              "      <th>Activity</th>\n",
              "      <th>Name</th>\n",
              "      <th>Sex</th>\n",
              "      <th>Age</th>\n",
              "      <th>Injury</th>\n",
              "      <th>Fatal Y/N</th>\n",
              "      <th>Time</th>\n",
              "      <th>Species</th>\n",
              "      <th>Source</th>\n",
              "    </tr>\n",
              "  </thead>\n",
              "  <tbody>\n",
              "    <tr>\n",
              "      <th>0</th>\n",
              "      <td>2025-01-11 00:00:00</td>\n",
              "      <td>2025.0</td>\n",
              "      <td>Provoked</td>\n",
              "      <td>USA</td>\n",
              "      <td>Hawaii</td>\n",
              "      <td>Off Haleiwa Boat Harbour Oahu</td>\n",
              "      <td>Diving</td>\n",
              "      <td>Male not stated was a dive tour worker</td>\n",
              "      <td>M</td>\n",
              "      <td>23</td>\n",
              "      <td>Bitten on the arm</td>\n",
              "      <td>N</td>\n",
              "      <td>1340hrs</td>\n",
              "      <td>Not stated</td>\n",
              "      <td>Kevin McMurray Trackingsharks.com</td>\n",
              "    </tr>\n",
              "    <tr>\n",
              "      <th>1</th>\n",
              "      <td>2025-01-02 00:00:00</td>\n",
              "      <td>2025.0</td>\n",
              "      <td>Unprovoked</td>\n",
              "      <td>New Caledonia</td>\n",
              "      <td>Grande Terre</td>\n",
              "      <td>Islet of Kendek near Koumac</td>\n",
              "      <td>Spearfishing</td>\n",
              "      <td>Robert Cuewapuru</td>\n",
              "      <td>M</td>\n",
              "      <td>40</td>\n",
              "      <td>Severe arm injury and delay in medical treatme...</td>\n",
              "      <td>Y</td>\n",
              "      <td>1615hr</td>\n",
              "      <td>Reportedly Tiger or Bull shark</td>\n",
              "      <td>Johannes Marchand Todd Smith</td>\n",
              "    </tr>\n",
              "    <tr>\n",
              "      <th>2</th>\n",
              "      <td>2025-01-02 00:00:00</td>\n",
              "      <td>2025.0</td>\n",
              "      <td>Unprovoked</td>\n",
              "      <td>Australia</td>\n",
              "      <td>South Australia</td>\n",
              "      <td>Granites Beach near Westall Streaky Bay</td>\n",
              "      <td>Surfing</td>\n",
              "      <td>Lance Appleby</td>\n",
              "      <td>M</td>\n",
              "      <td>28</td>\n",
              "      <td>Body not recovered</td>\n",
              "      <td>Y</td>\n",
              "      <td>1710hr</td>\n",
              "      <td>Great White Shart estimated 4.8m 16 ft</td>\n",
              "      <td>Glen Folkard: Simon De Marchi News.com.au: The...</td>\n",
              "    </tr>\n",
              "    <tr>\n",
              "      <th>3</th>\n",
              "      <td>2024-12-29 00:00:00</td>\n",
              "      <td>2024.0</td>\n",
              "      <td>Unprovoked</td>\n",
              "      <td>Egypt</td>\n",
              "      <td>North of Marsa Alam</td>\n",
              "      <td>Red Sea</td>\n",
              "      <td>SCUBA Diving</td>\n",
              "      <td>Peppino Fappani</td>\n",
              "      <td>M</td>\n",
              "      <td>69</td>\n",
              "      <td>Injuries to stomach preventing attack on friend</td>\n",
              "      <td>N</td>\n",
              "      <td>?</td>\n",
              "      <td>Reportedly a Tiger Shark</td>\n",
              "      <td>Todd Smith : Kevin McMurray Trackingsharks .co...</td>\n",
              "    </tr>\n",
              "    <tr>\n",
              "      <th>4</th>\n",
              "      <td>2024-12-29 00:00:00</td>\n",
              "      <td>2024.0</td>\n",
              "      <td>Unprovoked</td>\n",
              "      <td>Egypt</td>\n",
              "      <td>North of Marsa Alam</td>\n",
              "      <td>Red Sea</td>\n",
              "      <td>SCUBA Diving</td>\n",
              "      <td>Gianluca Di Gioia</td>\n",
              "      <td>M</td>\n",
              "      <td>48</td>\n",
              "      <td>Entire calf muscle removed and bitten both arm...</td>\n",
              "      <td>Y</td>\n",
              "      <td>?</td>\n",
              "      <td>Reportedly a Tiger Shark</td>\n",
              "      <td>Todd Smith : Kevin McMurray Trackingsharks .co...</td>\n",
              "    </tr>\n",
              "  </tbody>\n",
              "</table>\n",
              "</div>\n",
              "    <div class=\"colab-df-buttons\">\n",
              "\n",
              "  <div class=\"colab-df-container\">\n",
              "    <button class=\"colab-df-convert\" onclick=\"convertToInteractive('df-52c53893-7ce4-488e-85be-e42487a71fbd')\"\n",
              "            title=\"Convert this dataframe to an interactive table.\"\n",
              "            style=\"display:none;\">\n",
              "\n",
              "  <svg xmlns=\"http://www.w3.org/2000/svg\" height=\"24px\" viewBox=\"0 -960 960 960\">\n",
              "    <path d=\"M120-120v-720h720v720H120Zm60-500h600v-160H180v160Zm220 220h160v-160H400v160Zm0 220h160v-160H400v160ZM180-400h160v-160H180v160Zm440 0h160v-160H620v160ZM180-180h160v-160H180v160Zm440 0h160v-160H620v160Z\"/>\n",
              "  </svg>\n",
              "    </button>\n",
              "\n",
              "  <style>\n",
              "    .colab-df-container {\n",
              "      display:flex;\n",
              "      gap: 12px;\n",
              "    }\n",
              "\n",
              "    .colab-df-convert {\n",
              "      background-color: #E8F0FE;\n",
              "      border: none;\n",
              "      border-radius: 50%;\n",
              "      cursor: pointer;\n",
              "      display: none;\n",
              "      fill: #1967D2;\n",
              "      height: 32px;\n",
              "      padding: 0 0 0 0;\n",
              "      width: 32px;\n",
              "    }\n",
              "\n",
              "    .colab-df-convert:hover {\n",
              "      background-color: #E2EBFA;\n",
              "      box-shadow: 0px 1px 2px rgba(60, 64, 67, 0.3), 0px 1px 3px 1px rgba(60, 64, 67, 0.15);\n",
              "      fill: #174EA6;\n",
              "    }\n",
              "\n",
              "    .colab-df-buttons div {\n",
              "      margin-bottom: 4px;\n",
              "    }\n",
              "\n",
              "    [theme=dark] .colab-df-convert {\n",
              "      background-color: #3B4455;\n",
              "      fill: #D2E3FC;\n",
              "    }\n",
              "\n",
              "    [theme=dark] .colab-df-convert:hover {\n",
              "      background-color: #434B5C;\n",
              "      box-shadow: 0px 1px 3px 1px rgba(0, 0, 0, 0.15);\n",
              "      filter: drop-shadow(0px 1px 2px rgba(0, 0, 0, 0.3));\n",
              "      fill: #FFFFFF;\n",
              "    }\n",
              "  </style>\n",
              "\n",
              "    <script>\n",
              "      const buttonEl =\n",
              "        document.querySelector('#df-52c53893-7ce4-488e-85be-e42487a71fbd button.colab-df-convert');\n",
              "      buttonEl.style.display =\n",
              "        google.colab.kernel.accessAllowed ? 'block' : 'none';\n",
              "\n",
              "      async function convertToInteractive(key) {\n",
              "        const element = document.querySelector('#df-52c53893-7ce4-488e-85be-e42487a71fbd');\n",
              "        const dataTable =\n",
              "          await google.colab.kernel.invokeFunction('convertToInteractive',\n",
              "                                                    [key], {});\n",
              "        if (!dataTable) return;\n",
              "\n",
              "        const docLinkHtml = 'Like what you see? Visit the ' +\n",
              "          '<a target=\"_blank\" href=https://colab.research.google.com/notebooks/data_table.ipynb>data table notebook</a>'\n",
              "          + ' to learn more about interactive tables.';\n",
              "        element.innerHTML = '';\n",
              "        dataTable['output_type'] = 'display_data';\n",
              "        await google.colab.output.renderOutput(dataTable, element);\n",
              "        const docLink = document.createElement('div');\n",
              "        docLink.innerHTML = docLinkHtml;\n",
              "        element.appendChild(docLink);\n",
              "      }\n",
              "    </script>\n",
              "  </div>\n",
              "\n",
              "\n",
              "<div id=\"df-7a5574f0-79e6-4eba-a9fc-59f51fb9a7e1\">\n",
              "  <button class=\"colab-df-quickchart\" onclick=\"quickchart('df-7a5574f0-79e6-4eba-a9fc-59f51fb9a7e1')\"\n",
              "            title=\"Suggest charts\"\n",
              "            style=\"display:none;\">\n",
              "\n",
              "<svg xmlns=\"http://www.w3.org/2000/svg\" height=\"24px\"viewBox=\"0 0 24 24\"\n",
              "     width=\"24px\">\n",
              "    <g>\n",
              "        <path d=\"M19 3H5c-1.1 0-2 .9-2 2v14c0 1.1.9 2 2 2h14c1.1 0 2-.9 2-2V5c0-1.1-.9-2-2-2zM9 17H7v-7h2v7zm4 0h-2V7h2v10zm4 0h-2v-4h2v4z\"/>\n",
              "    </g>\n",
              "</svg>\n",
              "  </button>\n",
              "\n",
              "<style>\n",
              "  .colab-df-quickchart {\n",
              "      --bg-color: #E8F0FE;\n",
              "      --fill-color: #1967D2;\n",
              "      --hover-bg-color: #E2EBFA;\n",
              "      --hover-fill-color: #174EA6;\n",
              "      --disabled-fill-color: #AAA;\n",
              "      --disabled-bg-color: #DDD;\n",
              "  }\n",
              "\n",
              "  [theme=dark] .colab-df-quickchart {\n",
              "      --bg-color: #3B4455;\n",
              "      --fill-color: #D2E3FC;\n",
              "      --hover-bg-color: #434B5C;\n",
              "      --hover-fill-color: #FFFFFF;\n",
              "      --disabled-bg-color: #3B4455;\n",
              "      --disabled-fill-color: #666;\n",
              "  }\n",
              "\n",
              "  .colab-df-quickchart {\n",
              "    background-color: var(--bg-color);\n",
              "    border: none;\n",
              "    border-radius: 50%;\n",
              "    cursor: pointer;\n",
              "    display: none;\n",
              "    fill: var(--fill-color);\n",
              "    height: 32px;\n",
              "    padding: 0;\n",
              "    width: 32px;\n",
              "  }\n",
              "\n",
              "  .colab-df-quickchart:hover {\n",
              "    background-color: var(--hover-bg-color);\n",
              "    box-shadow: 0 1px 2px rgba(60, 64, 67, 0.3), 0 1px 3px 1px rgba(60, 64, 67, 0.15);\n",
              "    fill: var(--button-hover-fill-color);\n",
              "  }\n",
              "\n",
              "  .colab-df-quickchart-complete:disabled,\n",
              "  .colab-df-quickchart-complete:disabled:hover {\n",
              "    background-color: var(--disabled-bg-color);\n",
              "    fill: var(--disabled-fill-color);\n",
              "    box-shadow: none;\n",
              "  }\n",
              "\n",
              "  .colab-df-spinner {\n",
              "    border: 2px solid var(--fill-color);\n",
              "    border-color: transparent;\n",
              "    border-bottom-color: var(--fill-color);\n",
              "    animation:\n",
              "      spin 1s steps(1) infinite;\n",
              "  }\n",
              "\n",
              "  @keyframes spin {\n",
              "    0% {\n",
              "      border-color: transparent;\n",
              "      border-bottom-color: var(--fill-color);\n",
              "      border-left-color: var(--fill-color);\n",
              "    }\n",
              "    20% {\n",
              "      border-color: transparent;\n",
              "      border-left-color: var(--fill-color);\n",
              "      border-top-color: var(--fill-color);\n",
              "    }\n",
              "    30% {\n",
              "      border-color: transparent;\n",
              "      border-left-color: var(--fill-color);\n",
              "      border-top-color: var(--fill-color);\n",
              "      border-right-color: var(--fill-color);\n",
              "    }\n",
              "    40% {\n",
              "      border-color: transparent;\n",
              "      border-right-color: var(--fill-color);\n",
              "      border-top-color: var(--fill-color);\n",
              "    }\n",
              "    60% {\n",
              "      border-color: transparent;\n",
              "      border-right-color: var(--fill-color);\n",
              "    }\n",
              "    80% {\n",
              "      border-color: transparent;\n",
              "      border-right-color: var(--fill-color);\n",
              "      border-bottom-color: var(--fill-color);\n",
              "    }\n",
              "    90% {\n",
              "      border-color: transparent;\n",
              "      border-bottom-color: var(--fill-color);\n",
              "    }\n",
              "  }\n",
              "</style>\n",
              "\n",
              "  <script>\n",
              "    async function quickchart(key) {\n",
              "      const quickchartButtonEl =\n",
              "        document.querySelector('#' + key + ' button');\n",
              "      quickchartButtonEl.disabled = true;  // To prevent multiple clicks.\n",
              "      quickchartButtonEl.classList.add('colab-df-spinner');\n",
              "      try {\n",
              "        const charts = await google.colab.kernel.invokeFunction(\n",
              "            'suggestCharts', [key], {});\n",
              "      } catch (error) {\n",
              "        console.error('Error during call to suggestCharts:', error);\n",
              "      }\n",
              "      quickchartButtonEl.classList.remove('colab-df-spinner');\n",
              "      quickchartButtonEl.classList.add('colab-df-quickchart-complete');\n",
              "    }\n",
              "    (() => {\n",
              "      let quickchartButtonEl =\n",
              "        document.querySelector('#df-7a5574f0-79e6-4eba-a9fc-59f51fb9a7e1 button');\n",
              "      quickchartButtonEl.style.display =\n",
              "        google.colab.kernel.accessAllowed ? 'block' : 'none';\n",
              "    })();\n",
              "  </script>\n",
              "</div>\n",
              "\n",
              "    </div>\n",
              "  </div>\n"
            ],
            "application/vnd.google.colaboratory.intrinsic+json": {
              "type": "dataframe",
              "variable_name": "sharkdata",
              "summary": "{\n  \"name\": \"sharkdata\",\n  \"rows\": 6990,\n  \"fields\": [\n    {\n      \"column\": \"Date\",\n      \"properties\": {\n        \"dtype\": \"string\",\n        \"num_unique_values\": 6038,\n        \"samples\": [\n          \"18-Oct-1887\",\n          \"01-Dec-2016\",\n          \"18-Nov-1928\"\n        ],\n        \"semantic_type\": \"\",\n        \"description\": \"\"\n      }\n    },\n    {\n      \"column\": \"Year\",\n      \"properties\": {\n        \"dtype\": \"number\",\n        \"std\": 272.1174726863591,\n        \"min\": 0.0,\n        \"max\": 2026.0,\n        \"num_unique_values\": 261,\n        \"samples\": [\n          1996.0,\n          1884.0,\n          1857.0\n        ],\n        \"semantic_type\": \"\",\n        \"description\": \"\"\n      }\n    },\n    {\n      \"column\": \"Type\",\n      \"properties\": {\n        \"dtype\": \"category\",\n        \"num_unique_values\": 12,\n        \"samples\": [\n          \"Under investigation\",\n          \"Invalid\",\n          \"Provoked\"\n        ],\n        \"semantic_type\": \"\",\n        \"description\": \"\"\n      }\n    },\n    {\n      \"column\": \"Country\",\n      \"properties\": {\n        \"dtype\": \"category\",\n        \"num_unique_values\": 239,\n        \"samples\": [\n          \"EGYPT\",\n          \"Maldives\",\n          \"SAUDI ARABIA\"\n        ],\n        \"semantic_type\": \"\",\n        \"description\": \"\"\n      }\n    },\n    {\n      \"column\": \"State\",\n      \"properties\": {\n        \"dtype\": \"category\",\n        \"num_unique_values\": 920,\n        \"samples\": [\n          \"Kentucky\",\n          \"Southern Japan\",\n          \"Thessaly\"\n        ],\n        \"semantic_type\": \"\",\n        \"description\": \"\"\n      }\n    },\n    {\n      \"column\": \"Location\",\n      \"properties\": {\n        \"dtype\": \"string\",\n        \"num_unique_values\": 4551,\n        \"samples\": [\n          \"Dog Beach, Huntington Beach\",\n          \"Widenham\",\n          \"South Padre Island\"\n        ],\n        \"semantic_type\": \"\",\n        \"description\": \"\"\n      }\n    },\n    {\n      \"column\": \"Activity\",\n      \"properties\": {\n        \"dtype\": \"category\",\n        \"num_unique_values\": 1598,\n        \"samples\": [\n          \"Swimming with other crew near wharf\",\n          \"Cage Diving\",\n          \"Standing / surfing\"\n        ],\n        \"semantic_type\": \"\",\n        \"description\": \"\"\n      }\n    },\n    {\n      \"column\": \"Name\",\n      \"properties\": {\n        \"dtype\": \"string\",\n        \"num_unique_values\": 5724,\n        \"samples\": [\n          \"D.C. Barnes\",\n          \"Josh Schrutt \",\n          \"Sutton Davis\"\n        ],\n        \"semantic_type\": \"\",\n        \"description\": \"\"\n      }\n    },\n    {\n      \"column\": \"Sex\",\n      \"properties\": {\n        \"dtype\": \"category\",\n        \"num_unique_values\": 8,\n        \"samples\": [\n          \"F\",\n          \"M x 2\",\n          \"M\"\n        ],\n        \"semantic_type\": \"\",\n        \"description\": \"\"\n      }\n    },\n    {\n      \"column\": \"Age\",\n      \"properties\": {\n        \"dtype\": \"category\",\n        \"num_unique_values\": 246,\n        \"samples\": [\n          \"32\",\n          \"?\",\n          \"33 or 37\"\n        ],\n        \"semantic_type\": \"\",\n        \"description\": \"\"\n      }\n    },\n    {\n      \"column\": \"Injury\",\n      \"properties\": {\n        \"dtype\": \"string\",\n        \"num_unique_values\": 4119,\n        \"samples\": [\n          \"No details\",\n          \"Right thigh &  foot bruised, right calf  lacerated\",\n          \"Arm lacerated (minor injury)\"\n        ],\n        \"semantic_type\": \"\",\n        \"description\": \"\"\n      }\n    },\n    {\n      \"column\": \"Fatal Y/N\",\n      \"properties\": {\n        \"dtype\": \"category\",\n        \"num_unique_values\": 12,\n        \"samples\": [\n          \"N \",\n          \" N\",\n          \"N\"\n        ],\n        \"semantic_type\": \"\",\n        \"description\": \"\"\n      }\n    },\n    {\n      \"column\": \"Time\",\n      \"properties\": {\n        \"dtype\": \"category\",\n        \"num_unique_values\": 432,\n        \"samples\": [\n          \"   \",\n          \"08h00\",\n          \"17h34\"\n        ],\n        \"semantic_type\": \"\",\n        \"description\": \"\"\n      }\n    },\n    {\n      \"column\": \"Species \",\n      \"properties\": {\n        \"dtype\": \"category\",\n        \"num_unique_values\": 1706,\n        \"samples\": [\n          \"1.5' to 2' shark\",\n          \"Said to involve a 4.9 m [16'] \\\"red shark\\\"\",\n          \"2.7 m [9'] shark later captured by Mitchell-Hedges\"\n        ],\n        \"semantic_type\": \"\",\n        \"description\": \"\"\n      }\n    },\n    {\n      \"column\": \"Source\",\n      \"properties\": {\n        \"dtype\": \"string\",\n        \"num_unique_values\": 5345,\n        \"samples\": [\n          \"G.P. Whitley (1951), p.194 cites Daily Mirror (Sydney); J. Green, p.34\",\n          \"K. Aniol, Medical Officer\",\n          \"Daily Express, 7/2/1965; SAF Case #1375\"\n        ],\n        \"semantic_type\": \"\",\n        \"description\": \"\"\n      }\n    }\n  ]\n}"
            }
          },
          "metadata": {},
          "execution_count": 3
        }
      ]
    },
    {
      "cell_type": "markdown",
      "source": [
        "Clean the year variable. Describe the range of values you see. Filter the rows to focus on attacks since 1940. Are attacks increasing, decreasing, or remaining constant over time?"
      ],
      "metadata": {
        "id": "LdgpoqDd22Hq"
      }
    },
    {
      "cell_type": "markdown",
      "source": [
        "After analysing this data, it appears that the shark attacks are increasing over time."
      ],
      "metadata": {
        "id": "E0gLmq0chkGK"
      }
    },
    {
      "cell_type": "code",
      "source": [
        "# Filter the data and assign it to a new DataFrame\n",
        "sharkdataupdated = sharkdata[sharkdata['Year'] > 1940].copy()\n",
        "\n",
        "# Now safely modify the 'Year' column using .loc\n",
        "sharkdataupdated.loc[:, 'Year'] = sharkdataupdated['Year'].astype(int)\n",
        "\n",
        "# Plot the histogram of 'Year'\n",
        "from matplotlib import pyplot as plt\n",
        "sharkdataupdated['Year'].plot(kind='hist', bins=20, title='Year')\n",
        "plt.gca().spines[['top', 'right']].set_visible(False)\n",
        "\n"
      ],
      "metadata": {
        "colab": {
          "base_uri": "https://localhost:8080/",
          "height": 452
        },
        "id": "DJ26TSuu24q9",
        "outputId": "01636922-3dc0-4c86-d6ee-cd7a4259636a"
      },
      "execution_count": 78,
      "outputs": [
        {
          "output_type": "display_data",
          "data": {
            "text/plain": [
              "<Figure size 640x480 with 1 Axes>"
            ],
            "image/png": "[encoded data removed]"
          },
          "metadata": {}
        }
      ]
    },
    {
      "cell_type": "markdown",
      "source": [
        "Clean the Age variable and make a histogram of the ages of the victims.\n"
      ],
      "metadata": {
        "id": "jGl3VUZ-4ouT"
      }
    },
    {
      "cell_type": "code",
      "source": [
        "sharkdataupdated['Age'] = pd.to_numeric(sharkdataupdated['Age'], errors='coerce')\n",
        "sharkdataupdated1 = sharkdataupdated.dropna(subset=['Age'])\n",
        "sharkdataupdated1.loc[:, 'Age'] = sharkdataupdated1['Age'].astype(int)\n",
        "sharkdataupdated1['Age'].plot(kind='hist', bins=20, title='Age')\n",
        "plt.gca().spines[['top', 'right']].set_visible(False)\n"
      ],
      "metadata": {
        "colab": {
          "base_uri": "https://localhost:8080/",
          "height": 452
        },
        "id": "Zj-ImaTa4sjB",
        "outputId": "09539741-faa9-4e17-ca37-27fa5c89d891"
      },
      "execution_count": 80,
      "outputs": [
        {
          "output_type": "display_data",
          "data": {
            "text/plain": [
              "<Figure size 640x480 with 1 Axes>"
            ],
            "image/png": "[encoded data removed]"
          },
          "metadata": {}
        }
      ]
    },
    {
      "cell_type": "markdown",
      "source": [
        "What proportion of victims are male?"
      ],
      "metadata": {
        "id": "hZtHJGt_8Kco"
      }
    },
    {
      "cell_type": "code",
      "source": [
        "import pandas as pd\n",
        "# Filter to only include male victims and calculate the proportion\n",
        "male_victims = sharkdataupdated1[sharkdataupdated1['Sex'] == 'M']  # Adjust 'sex' if needed\n",
        "proportion_male = len(male_victims) /sharkdataupdated1.shape[0]\n",
        "\n",
        "# Display the proportion of male victims\n",
        "print(f\"Proportion of victims that are male: {proportion_male:.2f}\")\n"
      ],
      "metadata": {
        "colab": {
          "base_uri": "https://localhost:8080/"
        },
        "id": "QIdIzjav8RO5",
        "outputId": "c8e58967-4b05-4c30-ff95-05cd01dba557"
      },
      "execution_count": 81,
      "outputs": [
        {
          "output_type": "stream",
          "name": "stdout",
          "text": [
            "Proportion of victims that are male: 0.84\n"
          ]
        }
      ]
    },
    {
      "cell_type": "markdown",
      "source": [
        "Clean the Type variable so it only takes three values: Provoked and Unprovoked and Unknown. What proportion of attacks are unprovoked?"
      ],
      "metadata": {
        "id": "_ZJ8DBgg-IwO"
      }
    },
    {
      "cell_type": "code",
      "source": [
        "# Clean the 'Type' column by normalizing its values to three categories\n",
        "sharkdata['Type'] = sharkdata['Type'].replace({\n",
        "    'Provoked attack': 'Provoked',\n",
        "    'Unprovoked attack': 'Unprovoked',\n",
        "    'Unknown': 'Unknown',  # Assuming 'Unknown' is already in the correct form\n",
        "    'Provoked': 'Provoked',\n",
        "    'Unprovoked': 'Unprovoked'\n",
        "})\n",
        "\n",
        "# Calculate the proportion of unprovoked attacks\n",
        "unprovoked_attacks = sharkdata[sharkdata['Type'] == 'Unprovoked']\n",
        "proportion_unprovoked = len(unprovoked_attacks) / sharkdata.shape[0]\n",
        "\n",
        "# Display the proportion of unprovoked attacks\n",
        "print(f\"Proportion of attacks that are unprovoked: {proportion_unprovoked:.2f}\")\n"
      ],
      "metadata": {
        "colab": {
          "base_uri": "https://localhost:8080/"
        },
        "id": "lgUdBNTG-Mm3",
        "outputId": "694fd1c3-a528-4259-c865-68e86b75bac8"
      },
      "execution_count": 87,
      "outputs": [
        {
          "output_type": "stream",
          "name": "stdout",
          "text": [
            "Proportion of attacks that are unprovoked: 0.74\n"
          ]
        }
      ]
    },
    {
      "cell_type": "markdown",
      "source": [
        "Clean the Fatal Y/N variable so it only takes three values: Y, N, and Unknown."
      ],
      "metadata": {
        "id": "j-5LEP66-baM"
      }
    },
    {
      "cell_type": "code",
      "source": [
        "# Clean the 'Fatal Y/N' column: Keep 'Y' and 'N', replace all others with 'Unknown'\n",
        "sharkdata['Fatal Y/N'] = sharkdata['Fatal Y/N'].apply(lambda x: x if x in ['Y', 'N'] else 'Unknown')\n",
        "\n",
        "# Display the cleaned 'Fatal Y/N' column\n",
        "print(sharkdata['Fatal Y/N'].value_counts())\n"
      ],
      "metadata": {
        "colab": {
          "base_uri": "https://localhost:8080/"
        },
        "id": "_EC6F-xzmOT8",
        "outputId": "9038beaf-56fc-4815-b9da-f7b1dd00298f"
      },
      "execution_count": 89,
      "outputs": [
        {
          "output_type": "stream",
          "name": "stdout",
          "text": [
            "Fatal Y/N\n",
            "N          4870\n",
            "Y          1468\n",
            "Unknown     652\n",
            "Name: count, dtype: int64\n"
          ]
        }
      ]
    },
    {
      "cell_type": "markdown",
      "source": [
        "Are sharks more likely to launch unprovoked attacks on men or women? Is the attack more or less likely to be fatal when the attack is provoked or unprovoked? Is it more or less likely to be fatal when the victim is male or female? How do you feel about sharks?"
      ],
      "metadata": {
        "id": "LM2U74qn_J8s"
      }
    },
    {
      "cell_type": "code",
      "source": [
        "import pandas as pd\n",
        "\n",
        "# Clean the 'Fatal Y/N' column: Keep 'Y' and 'N', replace all others with 'Unknown'\n",
        "sharkdata['Fatal Y/N'] = sharkdata['Fatal Y/N'].apply(lambda x: x if x in ['Y', 'N'] else 'Unknown')\n",
        "\n",
        "# Clean the 'Type' column to only have 'Provoked', 'Unprovoked', and 'Unknown'\n",
        "sharkdata['Type'] = sharkdata['Type'].apply(lambda x: x if x in ['Provoked', 'Unprovoked', 'Unknown'] else 'Unknown')\n",
        "\n",
        "# Question 1: Are sharks more likely to launch unprovoked attacks on men or women?\n",
        "unprovoked_attacks = sharkdata[sharkdata['Type'] == 'Unprovoked']\n",
        "unprovoked_by_gender = unprovoked_attacks['Sex'].value_counts()\n",
        "\n",
        "# Find the gender with more unprovoked attacks\n",
        "dominant_gender = unprovoked_by_gender.idxmax()  # Get the gender with more attacks\n",
        "dominant_gender_count = unprovoked_by_gender.max()  # Get the count for the dominant gender\n",
        "\n",
        "# Display the gender with more unprovoked attacks\n",
        "print(f\"The gender with more unprovoked attacks is {dominant_gender} with {dominant_gender_count} attacks.\")"
      ],
      "metadata": {
        "colab": {
          "base_uri": "https://localhost:8080/"
        },
        "id": "adkXCVgl_tKG",
        "outputId": "5b84cb2f-62b4-4773-c8ce-8328e089024c"
      },
      "execution_count": 11,
      "outputs": [
        {
          "output_type": "stream",
          "name": "stdout",
          "text": [
            "The gender with more unprovoked attacks is M with 4309 attacks.\n"
          ]
        }
      ]
    },
    {
      "cell_type": "code",
      "source": [
        "# Clean the 'Fatal Y/N' column: Keep 'Y' and 'N', replace all others with 'Unknown'\n",
        "sharkdata['Fatal Y/N'] = sharkdata['Fatal Y/N'].apply(lambda x: x if x in ['Y', 'N'] else 'Unknown')\n",
        "\n",
        "# Clean the 'Type' column to only have 'Provoked', 'Unprovoked', and 'Unknown'\n",
        "sharkdata['Type'] = sharkdata['Type'].apply(lambda x: x if x in ['Provoked', 'Unprovoked', 'Unknown'] else 'Unknown')\n",
        "\n",
        "# Filter rows where 'Fatal Y/N' is 'Y' (fatal attacks)\n",
        "fatal_attacks = sharkdata[sharkdata['Fatal Y/N'] == 'Y']\n",
        "\n",
        "# Count the number of fatal attacks by type (provoked vs unprovoked)\n",
        "fatal_attacks_by_type = fatal_attacks['Type'].value_counts()\n",
        "\n",
        "# Determine which type (provoked or unprovoked) is more likely to be fatal\n",
        "total_attacks_by_type = sharkdata['Type'].value_counts()\n",
        "fatality_rate_by_type = fatal_attacks_by_type / total_attacks_by_type\n",
        "\n",
        "\n",
        "# Determine which type is more likely to be fatal\n",
        "most_fatal_type = fatality_rate_by_type.idxmax()\n",
        "print(f\"The attack type more likely to be fatal is: {most_fatal_type}\")\n"
      ],
      "metadata": {
        "colab": {
          "base_uri": "https://localhost:8080/"
        },
        "id": "tAXSrb2dLnH8",
        "outputId": "fcaec84c-502d-4625-ce69-cc2b299a69a8"
      },
      "execution_count": null,
      "outputs": [
        {
          "output_type": "stream",
          "name": "stdout",
          "text": [
            "The attack type more likely to be fatal is: Unprovoked\n"
          ]
        }
      ]
    },
    {
      "cell_type": "code",
      "source": [
        "\n",
        "# Clean the 'Fatal Y/N' column: Keep 'Y' and 'N', replace all others with 'Unknown'\n",
        "sharkdata['Fatal Y/N'] = sharkdata['Fatal Y/N'].apply(lambda x: x if x in ['Y', 'N'] else 'Unknown')\n",
        "\n",
        "# Clean the 'Type' column to only have 'Provoked', 'Unprovoked', and 'Unknown'\n",
        "sharkdata['Type'] = sharkdata['Type'].apply(lambda x: x if x in ['Provoked', 'Unprovoked', 'Unknown'] else 'Unknown')\n",
        "\n",
        "# Filter rows where 'Fatal Y/N' is 'Y' (fatal attacks)\n",
        "fatal_attacks = sharkdata[sharkdata['Fatal Y/N'] == 'Y']\n",
        "\n",
        "# Count the number of fatal attacks by gender\n",
        "fatal_attacks_by_gender = fatal_attacks['Sex'].value_counts()\n",
        "\n",
        "# Determine which gender has more fatal attacks\n",
        "most_fatal_gender = fatal_attacks_by_gender.idxmax()\n",
        "print(f\"The gender with the most fatal attacks is: {most_fatal_gender}\")"
      ],
      "metadata": {
        "colab": {
          "base_uri": "https://localhost:8080/"
        },
        "id": "oa5trSvfLDQG",
        "outputId": "0febe575-36ef-4c77-c844-f8ff0b553ca3"
      },
      "execution_count": null,
      "outputs": [
        {
          "output_type": "stream",
          "name": "stdout",
          "text": [
            "The gender with the most fatal attacks is: M\n"
          ]
        }
      ]
    },
    {
      "cell_type": "markdown",
      "source": [
        "What proportion of attacks appear to be by white sharks? (Hint: str.split() makes a vector of text values into a list of lists, split by spaces.)"
      ],
      "metadata": {
        "id": "0HE84-3zEGoJ"
      }
    },
    {
      "cell_type": "code",
      "source": [
        "# Normalize the 'Species' column (convert to lowercase, remove extra spaces)\n",
        "sharkdata['Species '] = sharkdata['Species '].astype(str).str.lower().str.replace(r'\\s+', ' ').str.strip()\n",
        "\n",
        "# Count how many times \"white shark\" appears in the 'Species' column\n",
        "white_shark_count = sharkdata['Species '].str.contains(r'white shark', na=False).sum()\n",
        "\n",
        "# Calculate the proportion of white shark attacks (as a decimal)\n",
        "proportion_white_shark = white_shark_count / sharkdata.shape[0]\n",
        "\n",
        "# Display the proportion as a percentage and as a decimal\n",
        "print(f\"The proportion of white shark attacks is {proportion_white_shark:.4f} (or {proportion_white_shark * 100:.2f}%).\")\n"
      ],
      "metadata": {
        "colab": {
          "base_uri": "https://localhost:8080/"
        },
        "id": "pmWGCq1IUorD",
        "outputId": "68224c83-509b-46e6-9864-7ecc972788c1"
      },
      "execution_count": 15,
      "outputs": [
        {
          "output_type": "stream",
          "name": "stdout",
          "text": [
            "The proportion of white shark attacks is 0.1001 (or 10.01%).\n"
          ]
        }
      ]
    },
    {
      "cell_type": "markdown",
      "source": [
        "Q3. Open the \"tidy_data.pdf\" document in the repo, which is a paper called Tidy Data by Hadley Wickham.\n",
        "**Read the abstract. What is this paper about?**"
      ],
      "metadata": {
        "id": "4LcDoS8YBoZ6"
      }
    },
    {
      "cell_type": "markdown",
      "source": [
        "It seems that this paper emphasizes the importance of cleaning data, as clean data is not only easier to work with and manipulate but also enhances accuracy, reduces errors, and ensures more reliable insights."
      ],
      "metadata": {
        "id": "ug3Afup4CvTn"
      }
    },
    {
      "cell_type": "markdown",
      "source": [
        "**Read the introduction. What is the \"tidy data standard\" intended to accomplish?**"
      ],
      "metadata": {
        "id": "Ha_D_xt5GUHI"
      }
    },
    {
      "cell_type": "markdown",
      "source": [
        "The \"tidy data standard\" is intended to provide a consistent/structured way to organise data. It makes the process of cleaning data more efficient and eliminates the need to start from scratch each time. As a result, less time is spent translating data between different tools. It allows data scientists to focus their time on solving domain-specific problems instead of logistical issues related to data formatting."
      ],
      "metadata": {
        "id": "zGFovi64EGQn"
      }
    },
    {
      "cell_type": "markdown",
      "source": [
        "**Read the intro to section 2. What does this sentence mean: \"Like families, tidy datasets are all alike but every messy dataset is messy in its own way.\" What does this sentence mean: \"For a given dataset, it’s usually easy to figure out what are observations and what are variables, but it is surprisingly difficult to precisely define variables and observations in general.**"
      ],
      "metadata": {
        "id": "bYT-IqcQGB4y"
      }
    },
    {
      "cell_type": "markdown",
      "source": [
        "The sentence “Like families, tidy datasets are all alike but every messy dataset is messy in its own way” compares datasets to families. It implies that once data is organized following the tidy standard—where each variable is in its own column and each observation is in its own row—the resulting structure is consistent and predictable. In contrast, messy datasets can deviate in countless unique ways from this ideal form, making them harder to work with.\n",
        "\n",
        "The second sentence, “For a given dataset, it's usually easy to figure out what are observations and what are variables, but it is surprisingly difficult to precisely define variables and observations in general,” points out that although one can often intuitively distinguish observations from variables when looking at a single dataset, developing a universal and precise definition for what counts as a variable or an observation is challenging."
      ],
      "metadata": {
        "id": "PjQmG8M0GdsF"
      }
    },
    {
      "cell_type": "markdown",
      "source": [
        "**Read Section 2.2. How does Wickham define values, variables, and observations?**"
      ],
      "metadata": {
        "id": "tyTWhtv4GJv0"
      }
    },
    {
      "cell_type": "markdown",
      "source": [
        "\n",
        "Wickman explains that a dataset is a collection of individual values- either numbers or strings that are organised in two ways. Each value belongs to a variable- a set of all values measuring the same underlying attribute across different units. Each value is also part of a larger \"observation\"- which is a collection of all values on the same unit across various attributes. This dual organisation system is the basis of the tidy data framework, since each value is part of both a variable and an observation, making the data easier to manipulate.\n",
        "\n"
      ],
      "metadata": {
        "id": "XTUZ2-D6Jlcp"
      }
    },
    {
      "cell_type": "markdown",
      "source": [
        "**How is \"Tidy Data\" defined in section 2.3?**\n"
      ],
      "metadata": {
        "id": "toZv2JeCLNqW"
      }
    },
    {
      "cell_type": "markdown",
      "source": [
        "Wickham defines tidy data as a standardized mapping of a dataset’s meaning. In this framework, a dataset is considered tidy if it satisfies three conditions:\n",
        "\n",
        "1. Each variable forms a column.\n",
        "2. Each observation forms a row.\n",
        "3. Each type of observational unit forms a table.\n",
        "\n",
        "This structure ensures that the values belonging to a single variable are kept together and that data for each observation are paired across the different variables. This makes it easier to analyze and manipulate the data."
      ],
      "metadata": {
        "id": "wM7tB3w8LRMM"
      }
    },
    {
      "cell_type": "markdown",
      "source": [
        "**Read the intro to Section 3 and Section 3.1. What are the 5 most common problems with messy datasets? Why are the data in Table 4 messy? What is \"melting\" a dataset?**\n"
      ],
      "metadata": {
        "id": "PI2v4L05NDlM"
      }
    },
    {
      "cell_type": "markdown",
      "source": [
        "The five most common issues are:\n",
        "\n",
        "a. Column headers are values, not variable names.\n",
        "b. Multiple variables are stored in one column.\n",
        "c. Variables are stored in both rows and columns.\n",
        "d. Multiple types of observational units are stored in the same table.\n",
        "e. A single observational unit is stored in multiple tables.\n",
        "\n",
        "Table 4 presents data on income and religion. Instead of having a separate column that clearly defines the income variable, the income groups (e.g. \"<$10k\", \"$10-20k\", etc.) are column headers. Tidy datasets should have variable names as the header. The current arrangement makes it difficult to extract the income data because the income levels are embedded in the table’s structure.\n",
        "\n",
        "Melting is the process of transforming a dataset from a wide format into a long (or “molten”) format. In this context, melting takes the columns that currently hold data values (in Table 4, the various income groups) and stacks them into two new columns: 1) A key column that contains what was previously the header name, and 2) a value column that holds the corresponding data values. This helps in making the data more consistent."
      ],
      "metadata": {
        "id": "uUcoLkJINpJm"
      }
    },
    {
      "cell_type": "markdown",
      "source": [
        "**Why, specifically, is table 11 messy but table 12 tidy and \"molten\"?**"
      ],
      "metadata": {
        "id": "caMTfcNtNK8N"
      }
    },
    {
      "cell_type": "markdown",
      "source": [
        "In table 11, the data is organised by the days of the month. Each day has its own column. This is messy as the column headers should be names instaed. Table 12 is tidy and \"molten\" because the column header name is \"date\" and the data is sorted into the column. This makes it much easier to compare the data between the various days."
      ],
      "metadata": {
        "id": "Dfbb8CdBOv7y"
      }
    },
    {
      "cell_type": "markdown",
      "source": [
        "**Read Section 6. What is the \"chicken-and-egg\" problem with focusing on tidy data? What does Wickham hope happens in the future with further work on the subject of data wrangling?**"
      ],
      "metadata": {
        "id": "Sa4rsMvkQ8E3"
      }
    },
    {
      "cell_type": "markdown",
      "source": [
        "Wickman is saying that tidy data is only as helpful as the tools built for it, and most tools are designed for tidy data. This locks/limits data scientists into a predicament. You need tidy data to effectively use the tools we currently developed, but those tools are dependent on having clean data in the first place. He hopes that this might change in the future with more innovation."
      ],
      "metadata": {
        "id": "XCj6OCBEQGBC"
      }
    }
  ]
}